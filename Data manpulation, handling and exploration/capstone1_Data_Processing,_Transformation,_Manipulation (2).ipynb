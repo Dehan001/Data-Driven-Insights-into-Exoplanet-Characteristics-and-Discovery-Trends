{
  "nbformat": 4,
  "nbformat_minor": 0,
  "metadata": {
    "colab": {
      "provenance": []
    },
    "kernelspec": {
      "name": "python3",
      "display_name": "Python 3"
    },
    "language_info": {
      "name": "python"
    }
  },
  "cells": [
    {
      "cell_type": "markdown",
      "metadata": {
        "id": "YSbzyPvB8gm2"
      },
      "source": [
        "## Loading data into Pandas DataFrame"
      ]
    },
    {
      "cell_type": "code",
      "source": [
        "#importing the necessary library\n",
        "import pandas as pd\n",
        "import numpy as np"
      ],
      "metadata": {
        "id": "S6yvmr5F4o3U"
      },
      "execution_count": null,
      "outputs": []
    },
    {
      "cell_type": "code",
      "source": [
        "# downloading the csv file using the id which is taken from the sharable link.\n",
        "! gdown --id 1wG9iNFB5cmqCTPbEobQUlFMVlcQsF7pY"
      ],
      "metadata": {
        "colab": {
          "base_uri": "https://localhost:8080/"
        },
        "id": "CNsmtp0r4uX1",
        "outputId": "3f906d74-133f-4a41-e483-7563d5ea8da2"
      },
      "execution_count": null,
      "outputs": [
        {
          "output_type": "stream",
          "name": "stdout",
          "text": [
            "/usr/local/lib/python3.10/dist-packages/gdown/__main__.py:132: FutureWarning: Option `--id` was deprecated in version 4.3.1 and will be removed in 5.0. You don't need to pass it anymore to use a file ID.\n",
            "  warnings.warn(\n",
            "Downloading...\n",
            "From: https://drive.google.com/uc?id=1wG9iNFB5cmqCTPbEobQUlFMVlcQsF7pY\n",
            "To: /content/nasa_exoplanets.csv\n",
            "100% 603k/603k [00:00<00:00, 121MB/s]\n"
          ]
        }
      ]
    },
    {
      "cell_type": "code",
      "metadata": {
        "colab": {
          "base_uri": "https://localhost:8080/",
          "height": 310
        },
        "id": "Pc4JJhdN8riw",
        "outputId": "1d47402c-3b4b-47c9-8756-c9b89cb719c2"
      },
      "source": [
        "#loading the the csv file and converting it into dataframe\n",
        "df = pd.read_csv(\"/content/nasa_exoplanets.csv\")\n",
        "#showing the first 5 rows of the dataset\n",
        "df.head()"
      ],
      "execution_count": null,
      "outputs": [
        {
          "output_type": "execute_result",
          "data": {
            "text/plain": [
              "  Planet Name Parsecs from Earth     Planet Mass Stellar Magnitude  \\\n",
              "0  HD 21520 b             79.208     17.7 Earths              9.17   \n",
              "1  TOI-3568 b            197.906     26.4 Earths            12.879   \n",
              "2  TOI-2384 b             191.51  1.966 Jupiters            15.103   \n",
              "3    TOI-2379            211.247   5.76 Jupiters            15.548   \n",
              "4  TOI-6034 b            117.992  0.798 Jupiters            15.189   \n",
              "\n",
              "   Discovery Date    Planet Radius   Planet Type Discovery Method  \\\n",
              "0            2024  0.241 x Jupiter  Neptune-like          Transit   \n",
              "1            2024  0.483 x Jupiter  Neptune-like          Transit   \n",
              "2            2024  1.025 x Jupiter     Gas Giant          Transit   \n",
              "3            2024  1.046 x Jupiter     Gas Giant          Transit   \n",
              "4            2024  1.063 x Jupiter     Gas Giant          Transit   \n",
              "\n",
              "  Orbital Radius Orbital Period Eccentricity  \n",
              "0      0.1726 AU      25.1 days            0  \n",
              "1      0.0485 AU       4.4 days         0.04  \n",
              "2     0.02793 AU       2.1 days            0  \n",
              "3     0.05263 AU       5.5 days         0.34  \n",
              "4     0.02949 AU       2.6 days         0.04  "
            ],
            "text/html": [
              "\n",
              "  <div id=\"df-58348e1b-8807-4c92-9332-ea3f1656e6be\" class=\"colab-df-container\">\n",
              "    <div>\n",
              "<style scoped>\n",
              "    .dataframe tbody tr th:only-of-type {\n",
              "        vertical-align: middle;\n",
              "    }\n",
              "\n",
              "    .dataframe tbody tr th {\n",
              "        vertical-align: top;\n",
              "    }\n",
              "\n",
              "    .dataframe thead th {\n",
              "        text-align: right;\n",
              "    }\n",
              "</style>\n",
              "<table border=\"1\" class=\"dataframe\">\n",
              "  <thead>\n",
              "    <tr style=\"text-align: right;\">\n",
              "      <th></th>\n",
              "      <th>Planet Name</th>\n",
              "      <th>Parsecs from Earth</th>\n",
              "      <th>Planet Mass</th>\n",
              "      <th>Stellar Magnitude</th>\n",
              "      <th>Discovery Date</th>\n",
              "      <th>Planet Radius</th>\n",
              "      <th>Planet Type</th>\n",
              "      <th>Discovery Method</th>\n",
              "      <th>Orbital Radius</th>\n",
              "      <th>Orbital Period</th>\n",
              "      <th>Eccentricity</th>\n",
              "    </tr>\n",
              "  </thead>\n",
              "  <tbody>\n",
              "    <tr>\n",
              "      <th>0</th>\n",
              "      <td>HD 21520 b</td>\n",
              "      <td>79.208</td>\n",
              "      <td>17.7 Earths</td>\n",
              "      <td>9.17</td>\n",
              "      <td>2024</td>\n",
              "      <td>0.241 x Jupiter</td>\n",
              "      <td>Neptune-like</td>\n",
              "      <td>Transit</td>\n",
              "      <td>0.1726 AU</td>\n",
              "      <td>25.1 days</td>\n",
              "      <td>0</td>\n",
              "    </tr>\n",
              "    <tr>\n",
              "      <th>1</th>\n",
              "      <td>TOI-3568 b</td>\n",
              "      <td>197.906</td>\n",
              "      <td>26.4 Earths</td>\n",
              "      <td>12.879</td>\n",
              "      <td>2024</td>\n",
              "      <td>0.483 x Jupiter</td>\n",
              "      <td>Neptune-like</td>\n",
              "      <td>Transit</td>\n",
              "      <td>0.0485 AU</td>\n",
              "      <td>4.4 days</td>\n",
              "      <td>0.04</td>\n",
              "    </tr>\n",
              "    <tr>\n",
              "      <th>2</th>\n",
              "      <td>TOI-2384 b</td>\n",
              "      <td>191.51</td>\n",
              "      <td>1.966 Jupiters</td>\n",
              "      <td>15.103</td>\n",
              "      <td>2024</td>\n",
              "      <td>1.025 x Jupiter</td>\n",
              "      <td>Gas Giant</td>\n",
              "      <td>Transit</td>\n",
              "      <td>0.02793 AU</td>\n",
              "      <td>2.1 days</td>\n",
              "      <td>0</td>\n",
              "    </tr>\n",
              "    <tr>\n",
              "      <th>3</th>\n",
              "      <td>TOI-2379</td>\n",
              "      <td>211.247</td>\n",
              "      <td>5.76 Jupiters</td>\n",
              "      <td>15.548</td>\n",
              "      <td>2024</td>\n",
              "      <td>1.046 x Jupiter</td>\n",
              "      <td>Gas Giant</td>\n",
              "      <td>Transit</td>\n",
              "      <td>0.05263 AU</td>\n",
              "      <td>5.5 days</td>\n",
              "      <td>0.34</td>\n",
              "    </tr>\n",
              "    <tr>\n",
              "      <th>4</th>\n",
              "      <td>TOI-6034 b</td>\n",
              "      <td>117.992</td>\n",
              "      <td>0.798 Jupiters</td>\n",
              "      <td>15.189</td>\n",
              "      <td>2024</td>\n",
              "      <td>1.063 x Jupiter</td>\n",
              "      <td>Gas Giant</td>\n",
              "      <td>Transit</td>\n",
              "      <td>0.02949 AU</td>\n",
              "      <td>2.6 days</td>\n",
              "      <td>0.04</td>\n",
              "    </tr>\n",
              "  </tbody>\n",
              "</table>\n",
              "</div>\n",
              "    <div class=\"colab-df-buttons\">\n",
              "\n",
              "  <div class=\"colab-df-container\">\n",
              "    <button class=\"colab-df-convert\" onclick=\"convertToInteractive('df-58348e1b-8807-4c92-9332-ea3f1656e6be')\"\n",
              "            title=\"Convert this dataframe to an interactive table.\"\n",
              "            style=\"display:none;\">\n",
              "\n",
              "  <svg xmlns=\"http://www.w3.org/2000/svg\" height=\"24px\" viewBox=\"0 -960 960 960\">\n",
              "    <path d=\"M120-120v-720h720v720H120Zm60-500h600v-160H180v160Zm220 220h160v-160H400v160Zm0 220h160v-160H400v160ZM180-400h160v-160H180v160Zm440 0h160v-160H620v160ZM180-180h160v-160H180v160Zm440 0h160v-160H620v160Z\"/>\n",
              "  </svg>\n",
              "    </button>\n",
              "\n",
              "  <style>\n",
              "    .colab-df-container {\n",
              "      display:flex;\n",
              "      gap: 12px;\n",
              "    }\n",
              "\n",
              "    .colab-df-convert {\n",
              "      background-color: #E8F0FE;\n",
              "      border: none;\n",
              "      border-radius: 50%;\n",
              "      cursor: pointer;\n",
              "      display: none;\n",
              "      fill: #1967D2;\n",
              "      height: 32px;\n",
              "      padding: 0 0 0 0;\n",
              "      width: 32px;\n",
              "    }\n",
              "\n",
              "    .colab-df-convert:hover {\n",
              "      background-color: #E2EBFA;\n",
              "      box-shadow: 0px 1px 2px rgba(60, 64, 67, 0.3), 0px 1px 3px 1px rgba(60, 64, 67, 0.15);\n",
              "      fill: #174EA6;\n",
              "    }\n",
              "\n",
              "    .colab-df-buttons div {\n",
              "      margin-bottom: 4px;\n",
              "    }\n",
              "\n",
              "    [theme=dark] .colab-df-convert {\n",
              "      background-color: #3B4455;\n",
              "      fill: #D2E3FC;\n",
              "    }\n",
              "\n",
              "    [theme=dark] .colab-df-convert:hover {\n",
              "      background-color: #434B5C;\n",
              "      box-shadow: 0px 1px 3px 1px rgba(0, 0, 0, 0.15);\n",
              "      filter: drop-shadow(0px 1px 2px rgba(0, 0, 0, 0.3));\n",
              "      fill: #FFFFFF;\n",
              "    }\n",
              "  </style>\n",
              "\n",
              "    <script>\n",
              "      const buttonEl =\n",
              "        document.querySelector('#df-58348e1b-8807-4c92-9332-ea3f1656e6be button.colab-df-convert');\n",
              "      buttonEl.style.display =\n",
              "        google.colab.kernel.accessAllowed ? 'block' : 'none';\n",
              "\n",
              "      async function convertToInteractive(key) {\n",
              "        const element = document.querySelector('#df-58348e1b-8807-4c92-9332-ea3f1656e6be');\n",
              "        const dataTable =\n",
              "          await google.colab.kernel.invokeFunction('convertToInteractive',\n",
              "                                                    [key], {});\n",
              "        if (!dataTable) return;\n",
              "\n",
              "        const docLinkHtml = 'Like what you see? Visit the ' +\n",
              "          '<a target=\"_blank\" href=https://colab.research.google.com/notebooks/data_table.ipynb>data table notebook</a>'\n",
              "          + ' to learn more about interactive tables.';\n",
              "        element.innerHTML = '';\n",
              "        dataTable['output_type'] = 'display_data';\n",
              "        await google.colab.output.renderOutput(dataTable, element);\n",
              "        const docLink = document.createElement('div');\n",
              "        docLink.innerHTML = docLinkHtml;\n",
              "        element.appendChild(docLink);\n",
              "      }\n",
              "    </script>\n",
              "  </div>\n",
              "\n",
              "\n",
              "<div id=\"df-9179b047-9d00-4bff-8f30-be21a9e90c8d\">\n",
              "  <button class=\"colab-df-quickchart\" onclick=\"quickchart('df-9179b047-9d00-4bff-8f30-be21a9e90c8d')\"\n",
              "            title=\"Suggest charts\"\n",
              "            style=\"display:none;\">\n",
              "\n",
              "<svg xmlns=\"http://www.w3.org/2000/svg\" height=\"24px\"viewBox=\"0 0 24 24\"\n",
              "     width=\"24px\">\n",
              "    <g>\n",
              "        <path d=\"M19 3H5c-1.1 0-2 .9-2 2v14c0 1.1.9 2 2 2h14c1.1 0 2-.9 2-2V5c0-1.1-.9-2-2-2zM9 17H7v-7h2v7zm4 0h-2V7h2v10zm4 0h-2v-4h2v4z\"/>\n",
              "    </g>\n",
              "</svg>\n",
              "  </button>\n",
              "\n",
              "<style>\n",
              "  .colab-df-quickchart {\n",
              "      --bg-color: #E8F0FE;\n",
              "      --fill-color: #1967D2;\n",
              "      --hover-bg-color: #E2EBFA;\n",
              "      --hover-fill-color: #174EA6;\n",
              "      --disabled-fill-color: #AAA;\n",
              "      --disabled-bg-color: #DDD;\n",
              "  }\n",
              "\n",
              "  [theme=dark] .colab-df-quickchart {\n",
              "      --bg-color: #3B4455;\n",
              "      --fill-color: #D2E3FC;\n",
              "      --hover-bg-color: #434B5C;\n",
              "      --hover-fill-color: #FFFFFF;\n",
              "      --disabled-bg-color: #3B4455;\n",
              "      --disabled-fill-color: #666;\n",
              "  }\n",
              "\n",
              "  .colab-df-quickchart {\n",
              "    background-color: var(--bg-color);\n",
              "    border: none;\n",
              "    border-radius: 50%;\n",
              "    cursor: pointer;\n",
              "    display: none;\n",
              "    fill: var(--fill-color);\n",
              "    height: 32px;\n",
              "    padding: 0;\n",
              "    width: 32px;\n",
              "  }\n",
              "\n",
              "  .colab-df-quickchart:hover {\n",
              "    background-color: var(--hover-bg-color);\n",
              "    box-shadow: 0 1px 2px rgba(60, 64, 67, 0.3), 0 1px 3px 1px rgba(60, 64, 67, 0.15);\n",
              "    fill: var(--button-hover-fill-color);\n",
              "  }\n",
              "\n",
              "  .colab-df-quickchart-complete:disabled,\n",
              "  .colab-df-quickchart-complete:disabled:hover {\n",
              "    background-color: var(--disabled-bg-color);\n",
              "    fill: var(--disabled-fill-color);\n",
              "    box-shadow: none;\n",
              "  }\n",
              "\n",
              "  .colab-df-spinner {\n",
              "    border: 2px solid var(--fill-color);\n",
              "    border-color: transparent;\n",
              "    border-bottom-color: var(--fill-color);\n",
              "    animation:\n",
              "      spin 1s steps(1) infinite;\n",
              "  }\n",
              "\n",
              "  @keyframes spin {\n",
              "    0% {\n",
              "      border-color: transparent;\n",
              "      border-bottom-color: var(--fill-color);\n",
              "      border-left-color: var(--fill-color);\n",
              "    }\n",
              "    20% {\n",
              "      border-color: transparent;\n",
              "      border-left-color: var(--fill-color);\n",
              "      border-top-color: var(--fill-color);\n",
              "    }\n",
              "    30% {\n",
              "      border-color: transparent;\n",
              "      border-left-color: var(--fill-color);\n",
              "      border-top-color: var(--fill-color);\n",
              "      border-right-color: var(--fill-color);\n",
              "    }\n",
              "    40% {\n",
              "      border-color: transparent;\n",
              "      border-right-color: var(--fill-color);\n",
              "      border-top-color: var(--fill-color);\n",
              "    }\n",
              "    60% {\n",
              "      border-color: transparent;\n",
              "      border-right-color: var(--fill-color);\n",
              "    }\n",
              "    80% {\n",
              "      border-color: transparent;\n",
              "      border-right-color: var(--fill-color);\n",
              "      border-bottom-color: var(--fill-color);\n",
              "    }\n",
              "    90% {\n",
              "      border-color: transparent;\n",
              "      border-bottom-color: var(--fill-color);\n",
              "    }\n",
              "  }\n",
              "</style>\n",
              "\n",
              "  <script>\n",
              "    async function quickchart(key) {\n",
              "      const quickchartButtonEl =\n",
              "        document.querySelector('#' + key + ' button');\n",
              "      quickchartButtonEl.disabled = true;  // To prevent multiple clicks.\n",
              "      quickchartButtonEl.classList.add('colab-df-spinner');\n",
              "      try {\n",
              "        const charts = await google.colab.kernel.invokeFunction(\n",
              "            'suggestCharts', [key], {});\n",
              "      } catch (error) {\n",
              "        console.error('Error during call to suggestCharts:', error);\n",
              "      }\n",
              "      quickchartButtonEl.classList.remove('colab-df-spinner');\n",
              "      quickchartButtonEl.classList.add('colab-df-quickchart-complete');\n",
              "    }\n",
              "    (() => {\n",
              "      let quickchartButtonEl =\n",
              "        document.querySelector('#df-9179b047-9d00-4bff-8f30-be21a9e90c8d button');\n",
              "      quickchartButtonEl.style.display =\n",
              "        google.colab.kernel.accessAllowed ? 'block' : 'none';\n",
              "    })();\n",
              "  </script>\n",
              "</div>\n",
              "\n",
              "    </div>\n",
              "  </div>\n"
            ],
            "application/vnd.google.colaboratory.intrinsic+json": {
              "type": "dataframe",
              "variable_name": "df",
              "summary": "{\n  \"name\": \"df\",\n  \"rows\": 5759,\n  \"fields\": [\n    {\n      \"column\": \"Planet Name\",\n      \"properties\": {\n        \"dtype\": \"string\",\n        \"num_unique_values\": 5759,\n        \"samples\": [\n          \"Kepler-313 c\",\n          \"HATS-24 b\",\n          \"Kepler-1033 b\"\n        ],\n        \"semantic_type\": \"\",\n        \"description\": \"\"\n      }\n    },\n    {\n      \"column\": \"Parsecs from Earth\",\n      \"properties\": {\n        \"dtype\": \"string\",\n        \"num_unique_values\": 4252,\n        \"samples\": [\n          \"6070\",\n          \"568.148\",\n          \"609.638\"\n        ],\n        \"semantic_type\": \"\",\n        \"description\": \"\"\n      }\n    },\n    {\n      \"column\": \"Planet Mass\",\n      \"properties\": {\n        \"dtype\": \"category\",\n        \"num_unique_values\": 2255,\n        \"samples\": [\n          \"14.7 Earths\",\n          \"7.2 Earths\",\n          \"0.672 Jupiters\"\n        ],\n        \"semantic_type\": \"\",\n        \"description\": \"\"\n      }\n    },\n    {\n      \"column\": \"Stellar Magnitude\",\n      \"properties\": {\n        \"dtype\": \"string\",\n        \"num_unique_values\": 3081,\n        \"samples\": [\n          \"11.601\",\n          \"16.608\",\n          \"15.73\"\n        ],\n        \"semantic_type\": \"\",\n        \"description\": \"\"\n      }\n    },\n    {\n      \"column\": \"Discovery Date\",\n      \"properties\": {\n        \"dtype\": \"number\",\n        \"std\": 4,\n        \"min\": 1992,\n        \"max\": 2024,\n        \"num_unique_values\": 32,\n        \"samples\": [\n          1995,\n          2011,\n          2000\n        ],\n        \"semantic_type\": \"\",\n        \"description\": \"\"\n      }\n    },\n    {\n      \"column\": \"Planet Radius\",\n      \"properties\": {\n        \"dtype\": \"category\",\n        \"num_unique_values\": 1670,\n        \"samples\": [\n          \"0.756 x Jupiter\",\n          \"2.025 x Earth\",\n          \"0.953 x Earth\"\n        ],\n        \"semantic_type\": \"\",\n        \"description\": \"\"\n      }\n    },\n    {\n      \"column\": \"Planet Type\",\n      \"properties\": {\n        \"dtype\": \"category\",\n        \"num_unique_values\": 5,\n        \"samples\": [\n          \"Gas Giant\",\n          \"Unknown\",\n          \"Super Earth\"\n        ],\n        \"semantic_type\": \"\",\n        \"description\": \"\"\n      }\n    },\n    {\n      \"column\": \"Discovery Method\",\n      \"properties\": {\n        \"dtype\": \"category\",\n        \"num_unique_values\": 12,\n        \"samples\": [\n          \"Pulsation Timing Variations\",\n          \"Disk Kinematics\",\n          \"Transit\"\n        ],\n        \"semantic_type\": \"\",\n        \"description\": \"\"\n      }\n    },\n    {\n      \"column\": \"Orbital Radius\",\n      \"properties\": {\n        \"dtype\": \"string\",\n        \"num_unique_values\": 2955,\n        \"samples\": [\n          \"2.12 AU\",\n          \"0.0948 AU\",\n          \"0.312392 AU\"\n        ],\n        \"semantic_type\": \"\",\n        \"description\": \"\"\n      }\n    },\n    {\n      \"column\": \"Orbital Period\",\n      \"properties\": {\n        \"dtype\": \"category\",\n        \"num_unique_values\": 1317,\n        \"samples\": [\n          \"24.6 days\",\n          \"224 days\",\n          \"91.5 days\"\n        ],\n        \"semantic_type\": \"\",\n        \"description\": \"\"\n      }\n    },\n    {\n      \"column\": \"Eccentricity\",\n      \"properties\": {\n        \"dtype\": \"category\",\n        \"num_unique_values\": 239,\n        \"samples\": [\n          \"< 0.13\",\n          \"0.14\",\n          \"< 0.68\"\n        ],\n        \"semantic_type\": \"\",\n        \"description\": \"\"\n      }\n    }\n  ]\n}"
            }
          },
          "metadata": {},
          "execution_count": 121
        }
      ]
    },
    {
      "cell_type": "markdown",
      "source": [
        "# Check for Null Values and Unknown Values"
      ],
      "metadata": {
        "id": "DMaotWHD6x-X"
      }
    },
    {
      "cell_type": "code",
      "source": [
        "#showing the missing values in each columns\n",
        "missing_values = df.isnull().sum()\n",
        "print('Missing values :\\n', missing_values)\n"
      ],
      "metadata": {
        "colab": {
          "base_uri": "https://localhost:8080/"
        },
        "id": "5LoAZJ7G6p3v",
        "outputId": "6fb8b89f-3ab4-43a7-e76c-156d534e13ec"
      },
      "execution_count": null,
      "outputs": [
        {
          "output_type": "stream",
          "name": "stdout",
          "text": [
            "Missing values :\n",
            " Planet Name              0\n",
            "Parsecs from Earth       0\n",
            "Planet Mass              0\n",
            "Stellar Magnitude        0\n",
            "Discovery Date           0\n",
            "Planet Radius          229\n",
            "Planet Type            230\n",
            "Discovery Method       230\n",
            "Orbital Radius         231\n",
            "Orbital Period         231\n",
            "Eccentricity          1013\n",
            "dtype: int64\n"
          ]
        }
      ]
    },
    {
      "cell_type": "code",
      "source": [
        "#replacing the unknown values and empty strings with null values\n",
        "df.replace(['Unknown', ''], np.nan, inplace=True)\n",
        "df.isnull().sum()"
      ],
      "metadata": {
        "colab": {
          "base_uri": "https://localhost:8080/",
          "height": 429
        },
        "id": "f2QByqW27hxa",
        "outputId": "12397b6d-e7eb-4468-fbd7-1e5dd6380baa"
      },
      "execution_count": null,
      "outputs": [
        {
          "output_type": "execute_result",
          "data": {
            "text/plain": [
              "Planet Name              0\n",
              "Parsecs from Earth       9\n",
              "Planet Mass             23\n",
              "Stellar Magnitude      239\n",
              "Discovery Date           0\n",
              "Planet Radius          251\n",
              "Planet Type            237\n",
              "Discovery Method       230\n",
              "Orbital Radius         500\n",
              "Orbital Period         231\n",
              "Eccentricity          1016\n",
              "dtype: int64"
            ],
            "text/html": [
              "<div>\n",
              "<style scoped>\n",
              "    .dataframe tbody tr th:only-of-type {\n",
              "        vertical-align: middle;\n",
              "    }\n",
              "\n",
              "    .dataframe tbody tr th {\n",
              "        vertical-align: top;\n",
              "    }\n",
              "\n",
              "    .dataframe thead th {\n",
              "        text-align: right;\n",
              "    }\n",
              "</style>\n",
              "<table border=\"1\" class=\"dataframe\">\n",
              "  <thead>\n",
              "    <tr style=\"text-align: right;\">\n",
              "      <th></th>\n",
              "      <th>0</th>\n",
              "    </tr>\n",
              "  </thead>\n",
              "  <tbody>\n",
              "    <tr>\n",
              "      <th>Planet Name</th>\n",
              "      <td>0</td>\n",
              "    </tr>\n",
              "    <tr>\n",
              "      <th>Parsecs from Earth</th>\n",
              "      <td>9</td>\n",
              "    </tr>\n",
              "    <tr>\n",
              "      <th>Planet Mass</th>\n",
              "      <td>23</td>\n",
              "    </tr>\n",
              "    <tr>\n",
              "      <th>Stellar Magnitude</th>\n",
              "      <td>239</td>\n",
              "    </tr>\n",
              "    <tr>\n",
              "      <th>Discovery Date</th>\n",
              "      <td>0</td>\n",
              "    </tr>\n",
              "    <tr>\n",
              "      <th>Planet Radius</th>\n",
              "      <td>251</td>\n",
              "    </tr>\n",
              "    <tr>\n",
              "      <th>Planet Type</th>\n",
              "      <td>237</td>\n",
              "    </tr>\n",
              "    <tr>\n",
              "      <th>Discovery Method</th>\n",
              "      <td>230</td>\n",
              "    </tr>\n",
              "    <tr>\n",
              "      <th>Orbital Radius</th>\n",
              "      <td>500</td>\n",
              "    </tr>\n",
              "    <tr>\n",
              "      <th>Orbital Period</th>\n",
              "      <td>231</td>\n",
              "    </tr>\n",
              "    <tr>\n",
              "      <th>Eccentricity</th>\n",
              "      <td>1016</td>\n",
              "    </tr>\n",
              "  </tbody>\n",
              "</table>\n",
              "</div><br><label><b>dtype:</b> int64</label>"
            ]
          },
          "metadata": {},
          "execution_count": 123
        }
      ]
    },
    {
      "cell_type": "markdown",
      "source": [
        "# Handling the missing values"
      ],
      "metadata": {
        "id": "Y8rpxp2M-xwF"
      }
    },
    {
      "cell_type": "markdown",
      "source": [
        "Handling the Planet Mass and Planet Radius"
      ],
      "metadata": {
        "id": "Pgy8XxveCSC-"
      }
    },
    {
      "cell_type": "code",
      "source": [
        "# Function to convert \"Planet Mass\" to numerical values(in Jupiter masses)\n",
        "def convert_mass(value):\n",
        "    if pd.isna(value):\n",
        "        return np.nan\n",
        "    # Jupiter mass is 317.8 times the mass of Earth\n",
        "    if 'Earths' in value:\n",
        "        return float(value.split(' ')[0]) / 317.8  # 1 Jupiter mass = 317.8 Earth masses\n",
        "    elif 'Jupiters' in value:\n",
        "        return float(value.split(' ')[0])\n",
        "    else:\n",
        "        return np.nan"
      ],
      "metadata": {
        "id": "JczUdFVt-3iI"
      },
      "execution_count": null,
      "outputs": []
    },
    {
      "cell_type": "code",
      "source": [
        "# Appling the conversion function to the 'Planet Mass' column\n",
        "df['Planet Mass (Jupiter)'] = df['Planet Mass'].apply(convert_mass)\n",
        "# Now that 'Planet Mass (Jupiter)' is numerical, filling missing values with the mean\n",
        "df['Planet Mass (Jupiter)'].fillna(df['Planet Mass (Jupiter)'].mean(), inplace=True)\n",
        "df.drop(columns=['Planet Mass'], inplace=True)"
      ],
      "metadata": {
        "id": "I__QmbIp-ufP"
      },
      "execution_count": null,
      "outputs": []
    },
    {
      "cell_type": "code",
      "source": [
        "# Handling other columns (Planet Radius, etc.) similarly\n",
        "def convert_radius(value):\n",
        "    if pd.isna(value):\n",
        "        return np.nan\n",
        "    # Jupiter's diameter is about 11 times larger than Earth's.\n",
        "    if 'Earth' in value:\n",
        "        return float(value.split(' ')[0]) / 11.2  # Converting Earth radii to Jupiter radii\n",
        "    elif 'Jupiter' in value:\n",
        "        return float(value.split(' ')[0])\n",
        "    else:\n",
        "        return np.nan"
      ],
      "metadata": {
        "id": "Y96Lw47-C1lU"
      },
      "execution_count": null,
      "outputs": []
    },
    {
      "cell_type": "code",
      "source": [
        "# Appling the conversion function to the 'Planet Radius' column\n",
        "df['Planet Radius (Jupiter)'] = df['Planet Radius'].apply(convert_radius)\n",
        "\n",
        "# Filling missing values in 'Planet Radius (Jupiter)' with the mean\n",
        "df['Planet Radius (Jupiter)'].fillna(df['Planet Radius (Jupiter)'].mean(), inplace=True)\n",
        "df.drop(columns=['Planet Radius'], inplace=True)\n"
      ],
      "metadata": {
        "id": "8bCLZz-uDZUx"
      },
      "execution_count": null,
      "outputs": []
    },
    {
      "cell_type": "code",
      "source": [
        "# Function to clean the eccentricity values\n",
        "def clean_eccentricity(value):\n",
        "    if pd.isna(value) or value == '':\n",
        "        return np.nan\n",
        "    if isinstance(value, str):\n",
        "        if value.startswith('<'):\n",
        "            return float(value[2:])  # Converting to a float and taking after\"< \"\n",
        "        else:\n",
        "            return float(value)  # Converting to a float\n",
        "    return value\n",
        "\n",
        "# Appling the cleaning function to the Eccentricity column\n",
        "df['Eccentricity'] = df['Eccentricity'].apply(clean_eccentricity)\n",
        "\n",
        "# Now filling NaN values with the mean\n",
        "# Handling extreme outliers for Eccentricity (values above 1 are not physically meaningful)\n",
        "df['Eccentricity'] = df['Eccentricity'].apply(lambda x: x if x <= 1 else np.nan)\n",
        "df['Eccentricity'].fillna(df['Eccentricity'].mean(), inplace=True)\n"
      ],
      "metadata": {
        "id": "DOKaAW5aEOm9"
      },
      "execution_count": null,
      "outputs": []
    },
    {
      "cell_type": "code",
      "source": [
        "#converting to light-yearss\n",
        "df['Parsecs from Earth'] = pd.to_numeric(df['Parsecs from Earth'], errors='coerce')\n",
        "df['Distance (light-years)'] = df['Parsecs from Earth'] * 3.26156 # 1 Persecs from Earth = 3.26156\n",
        "df['Distance (light-years)'].fillna(df['Distance (light-years)'].mean(), inplace=True)  # or dropna() if appropriate\n",
        "df.drop(columns=['Parsecs from Earth'], inplace=True)"
      ],
      "metadata": {
        "id": "3Sn64scEHyhg"
      },
      "execution_count": null,
      "outputs": []
    },
    {
      "cell_type": "code",
      "source": [
        "# Converting 'Stellar Magnitude' to numeric, coercing errors (non-numeric values will be converted to NaN)\n",
        "df['Stellar Magnitude'] = pd.to_numeric(df['Stellar Magnitude'], errors='coerce')\n",
        "df['Stellar Magnitude'].fillna(df['Stellar Magnitude'].mean(), inplace=True)"
      ],
      "metadata": {
        "id": "Es6-tsSAT8-8"
      },
      "execution_count": null,
      "outputs": []
    },
    {
      "cell_type": "code",
      "source": [
        "# Function to clean 'Orbital Radius' values by removing 'AU' and converting to numeric\n",
        "def clean_orbital_radius(value):\n",
        "    if pd.isna(value):\n",
        "        return np.nan\n",
        "    # Remove any trailing or leading spaces and the 'AU' unit\n",
        "    value = str(value).replace('AU', '').strip()\n",
        "    # Convert the cleaned value to a float\n",
        "    try:\n",
        "        return float(value)\n",
        "    except ValueError:\n",
        "        return np.nan\n",
        "\n",
        "# Appling the function to the 'Orbital Radius' column\n",
        "df['Orbital Radius'] = df['Orbital Radius'].apply(clean_orbital_radius)\n",
        "\n",
        "# Filling missing values in 'Orbital Radius' with the mean\n",
        "df['Orbital Radius'].fillna(df['Orbital Radius'].mean(), inplace=True)\n",
        "# Handling extreme outliers for 'Orbital Radius' (remove rows with excessively high values)\n",
        "df = df[df['Orbital Radius'] <= df['Orbital Radius'].quantile(0.99)]\n"
      ],
      "metadata": {
        "id": "KOfLJx8NUsXV"
      },
      "execution_count": null,
      "outputs": []
    },
    {
      "cell_type": "code",
      "source": [
        "# Fill missing values with 'Most common' for 'Discovery Method' and 'Planet Type'\n",
        "# df['Discovery Method'] = df['Discovery Method'].fillna('Unknown').astype('category')\n",
        "# df['Planet Type'] = df['Planet Type'].fillna('Unknown').astype('category')\n",
        "df['Discovery Method'] = df['Discovery Method'].fillna(df['Discovery Method'].mode()[0]).astype('category')\n",
        "df['Planet Type'] = df['Planet Type'].fillna(df['Planet Type'].mode()[0]).astype('category')\n"
      ],
      "metadata": {
        "id": "Q1uXg08jIZO5",
        "colab": {
          "base_uri": "https://localhost:8080/"
        },
        "outputId": "5721e3b8-cfee-4199-b488-c624cbe174cf"
      },
      "execution_count": null,
      "outputs": [
        {
          "output_type": "stream",
          "name": "stderr",
          "text": [
            "<ipython-input-132-9ce5992ec5b1>:4: SettingWithCopyWarning: \n",
            "A value is trying to be set on a copy of a slice from a DataFrame.\n",
            "Try using .loc[row_indexer,col_indexer] = value instead\n",
            "\n",
            "See the caveats in the documentation: https://pandas.pydata.org/pandas-docs/stable/user_guide/indexing.html#returning-a-view-versus-a-copy\n",
            "  df['Discovery Method'] = df['Discovery Method'].fillna(df['Discovery Method'].mode()[0]).astype('category')\n",
            "<ipython-input-132-9ce5992ec5b1>:5: SettingWithCopyWarning: \n",
            "A value is trying to be set on a copy of a slice from a DataFrame.\n",
            "Try using .loc[row_indexer,col_indexer] = value instead\n",
            "\n",
            "See the caveats in the documentation: https://pandas.pydata.org/pandas-docs/stable/user_guide/indexing.html#returning-a-view-versus-a-copy\n",
            "  df['Planet Type'] = df['Planet Type'].fillna(df['Planet Type'].mode()[0]).astype('category')\n"
          ]
        }
      ]
    },
    {
      "cell_type": "code",
      "source": [
        "# Function to clean and convert orbital period values to years\n",
        "def clean_orbital_period(value):\n",
        "    if pd.isna(value):\n",
        "        return np.nan\n",
        "    # Convert to string to handle cases like \"days\" or \"years\"\n",
        "    value = str(value).strip().lower()  # Lowercase for consistent comparison\n",
        "    try:\n",
        "        # If the value contains 'days', convert it to years\n",
        "        if 'days' in value:\n",
        "            days_value = float(value.replace('days', '').strip())\n",
        "            return days_value / 365.25\n",
        "        # If the value contains 'years', just extract the numeric part\n",
        "        elif 'years' in value or 'year' in value:  # Handle both singular/plural\n",
        "            return float(value.replace('years', '').replace('year', '').strip())\n",
        "        # Otherwise, assume it's already in years or numeric\n",
        "        else:\n",
        "            return float(value)\n",
        "    except ValueError:\n",
        "        # If there's an error converting the value, return NaN\n",
        "        return np.nan\n",
        "\n",
        "# Apply the function to the 'Orbital Period' column\n",
        "df['Orbital Period (Years)'] = df['Orbital Period'].apply(clean_orbital_period)\n",
        "\n",
        "# Fill missing values with the mean of 'Orbital Period (Years)' if necessary\n",
        "df['Orbital Period (Years)'].fillna(df['Orbital Period (Years)'].mean(), inplace=True)\n",
        "df.drop(columns=['Orbital Period'], inplace=True)"
      ],
      "metadata": {
        "id": "z79U9xr1WHKw",
        "colab": {
          "base_uri": "https://localhost:8080/"
        },
        "outputId": "14345faa-f459-46d9-ab6d-67cf6958cc03"
      },
      "execution_count": null,
      "outputs": [
        {
          "output_type": "stream",
          "name": "stderr",
          "text": [
            "<ipython-input-133-617114ac0072>:23: SettingWithCopyWarning: \n",
            "A value is trying to be set on a copy of a slice from a DataFrame.\n",
            "Try using .loc[row_indexer,col_indexer] = value instead\n",
            "\n",
            "See the caveats in the documentation: https://pandas.pydata.org/pandas-docs/stable/user_guide/indexing.html#returning-a-view-versus-a-copy\n",
            "  df['Orbital Period (Years)'] = df['Orbital Period'].apply(clean_orbital_period)\n",
            "<ipython-input-133-617114ac0072>:26: SettingWithCopyWarning: \n",
            "A value is trying to be set on a copy of a slice from a DataFrame\n",
            "\n",
            "See the caveats in the documentation: https://pandas.pydata.org/pandas-docs/stable/user_guide/indexing.html#returning-a-view-versus-a-copy\n",
            "  df['Orbital Period (Years)'].fillna(df['Orbital Period (Years)'].mean(), inplace=True)\n",
            "<ipython-input-133-617114ac0072>:27: SettingWithCopyWarning: \n",
            "A value is trying to be set on a copy of a slice from a DataFrame\n",
            "\n",
            "See the caveats in the documentation: https://pandas.pydata.org/pandas-docs/stable/user_guide/indexing.html#returning-a-view-versus-a-copy\n",
            "  df.drop(columns=['Orbital Period'], inplace=True)\n"
          ]
        }
      ]
    },
    {
      "cell_type": "code",
      "source": [
        "df.isnull().sum()"
      ],
      "metadata": {
        "colab": {
          "base_uri": "https://localhost:8080/",
          "height": 429
        },
        "id": "LAvwAxfRRDPJ",
        "outputId": "72be2400-bb03-425a-d0fa-6a5fe09be2cf"
      },
      "execution_count": null,
      "outputs": [
        {
          "output_type": "execute_result",
          "data": {
            "text/plain": [
              "Planet Name                0\n",
              "Stellar Magnitude          0\n",
              "Discovery Date             0\n",
              "Planet Type                0\n",
              "Discovery Method           0\n",
              "Orbital Radius             0\n",
              "Eccentricity               0\n",
              "Planet Mass (Jupiter)      0\n",
              "Planet Radius (Jupiter)    0\n",
              "Distance (light-years)     0\n",
              "Orbital Period (Years)     0\n",
              "dtype: int64"
            ],
            "text/html": [
              "<div>\n",
              "<style scoped>\n",
              "    .dataframe tbody tr th:only-of-type {\n",
              "        vertical-align: middle;\n",
              "    }\n",
              "\n",
              "    .dataframe tbody tr th {\n",
              "        vertical-align: top;\n",
              "    }\n",
              "\n",
              "    .dataframe thead th {\n",
              "        text-align: right;\n",
              "    }\n",
              "</style>\n",
              "<table border=\"1\" class=\"dataframe\">\n",
              "  <thead>\n",
              "    <tr style=\"text-align: right;\">\n",
              "      <th></th>\n",
              "      <th>0</th>\n",
              "    </tr>\n",
              "  </thead>\n",
              "  <tbody>\n",
              "    <tr>\n",
              "      <th>Planet Name</th>\n",
              "      <td>0</td>\n",
              "    </tr>\n",
              "    <tr>\n",
              "      <th>Stellar Magnitude</th>\n",
              "      <td>0</td>\n",
              "    </tr>\n",
              "    <tr>\n",
              "      <th>Discovery Date</th>\n",
              "      <td>0</td>\n",
              "    </tr>\n",
              "    <tr>\n",
              "      <th>Planet Type</th>\n",
              "      <td>0</td>\n",
              "    </tr>\n",
              "    <tr>\n",
              "      <th>Discovery Method</th>\n",
              "      <td>0</td>\n",
              "    </tr>\n",
              "    <tr>\n",
              "      <th>Orbital Radius</th>\n",
              "      <td>0</td>\n",
              "    </tr>\n",
              "    <tr>\n",
              "      <th>Eccentricity</th>\n",
              "      <td>0</td>\n",
              "    </tr>\n",
              "    <tr>\n",
              "      <th>Planet Mass (Jupiter)</th>\n",
              "      <td>0</td>\n",
              "    </tr>\n",
              "    <tr>\n",
              "      <th>Planet Radius (Jupiter)</th>\n",
              "      <td>0</td>\n",
              "    </tr>\n",
              "    <tr>\n",
              "      <th>Distance (light-years)</th>\n",
              "      <td>0</td>\n",
              "    </tr>\n",
              "    <tr>\n",
              "      <th>Orbital Period (Years)</th>\n",
              "      <td>0</td>\n",
              "    </tr>\n",
              "  </tbody>\n",
              "</table>\n",
              "</div><br><label><b>dtype:</b> int64</label>"
            ]
          },
          "metadata": {},
          "execution_count": 134
        }
      ]
    },
    {
      "cell_type": "code",
      "source": [
        "# Now your DataFrame should be clean and missing values handled\n",
        "print(df.head())\n",
        "\n",
        "# Save the cleaned data to a new CSV\n",
        "df.to_csv('nasa_exoplanets_cleaned.csv', index=False)\n",
        "\n",
        "print(\"Data cleaning complete. Cleaned CSV saved as 'nasa_exoplanets_cleaned.csv'.\")"
      ],
      "metadata": {
        "id": "orLE2rTZMs7e",
        "colab": {
          "base_uri": "https://localhost:8080/"
        },
        "outputId": "531dcb30-628b-4498-d8d6-d2b18ba1d0a6"
      },
      "execution_count": null,
      "outputs": [
        {
          "output_type": "stream",
          "name": "stdout",
          "text": [
            "  Planet Name  Stellar Magnitude  Discovery Date   Planet Type  \\\n",
            "0  HD 21520 b              9.170            2024  Neptune-like   \n",
            "1  TOI-3568 b             12.879            2024  Neptune-like   \n",
            "2  TOI-2384 b             15.103            2024     Gas Giant   \n",
            "3    TOI-2379             15.548            2024     Gas Giant   \n",
            "4  TOI-6034 b             15.189            2024     Gas Giant   \n",
            "\n",
            "  Discovery Method  Orbital Radius  Eccentricity  Planet Mass (Jupiter)  \\\n",
            "0          Transit         0.17260          0.00               0.055695   \n",
            "1          Transit         0.04850          0.04               0.083071   \n",
            "2          Transit         0.02793          0.00               1.966000   \n",
            "3          Transit         0.05263          0.34               5.760000   \n",
            "4          Transit         0.02949          0.04               0.798000   \n",
            "\n",
            "   Planet Radius (Jupiter)  Distance (light-years)  Orbital Period (Years)  \n",
            "0                    0.241              258.341644                0.068720  \n",
            "1                    0.483              645.482293                0.012047  \n",
            "2                    1.025              624.621356                0.005749  \n",
            "3                    1.046              688.994765                0.015058  \n",
            "4                    1.063              384.837988                0.007118  \n",
            "Data cleaning complete. Cleaned CSV saved as 'nasa_exoplanets_cleaned.csv'.\n"
          ]
        }
      ]
    }
  ]
}